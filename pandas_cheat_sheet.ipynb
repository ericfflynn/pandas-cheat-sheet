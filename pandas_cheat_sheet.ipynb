{
 "cells": [
  {
   "cell_type": "markdown",
   "id": "71f5fbbb",
   "metadata": {},
   "source": [
    "# Pandas Cheat Sheet"
   ]
  },
  {
   "cell_type": "code",
   "execution_count": 2,
   "id": "19f66734",
   "metadata": {},
   "outputs": [],
   "source": [
    "import pandas as pd"
   ]
  },
  {
   "cell_type": "markdown",
   "id": "ff467503",
   "metadata": {},
   "source": [
    "## Creating DataFrames"
   ]
  },
  {
   "cell_type": "markdown",
   "id": "48462d84",
   "metadata": {},
   "source": [
    "### From Scratch"
   ]
  },
  {
   "cell_type": "code",
   "execution_count": 5,
   "id": "ad76fc02",
   "metadata": {},
   "outputs": [
    {
     "name": "stdout",
     "output_type": "stream",
     "text": [
      "(5, 5)\n"
     ]
    },
    {
     "data": {
      "text/html": [
       "<div>\n",
       "<style scoped>\n",
       "    .dataframe tbody tr th:only-of-type {\n",
       "        vertical-align: middle;\n",
       "    }\n",
       "\n",
       "    .dataframe tbody tr th {\n",
       "        vertical-align: top;\n",
       "    }\n",
       "\n",
       "    .dataframe thead th {\n",
       "        text-align: right;\n",
       "    }\n",
       "</style>\n",
       "<table border=\"1\" class=\"dataframe\">\n",
       "  <thead>\n",
       "    <tr style=\"text-align: right;\">\n",
       "      <th></th>\n",
       "      <th>id</th>\n",
       "      <th>name</th>\n",
       "      <th>age</th>\n",
       "      <th>salary</th>\n",
       "      <th>department</th>\n",
       "    </tr>\n",
       "  </thead>\n",
       "  <tbody>\n",
       "    <tr>\n",
       "      <th>0</th>\n",
       "      <td>1</td>\n",
       "      <td>Alice</td>\n",
       "      <td>25</td>\n",
       "      <td>50000</td>\n",
       "      <td>HR</td>\n",
       "    </tr>\n",
       "    <tr>\n",
       "      <th>1</th>\n",
       "      <td>2</td>\n",
       "      <td>Bob</td>\n",
       "      <td>30</td>\n",
       "      <td>60000</td>\n",
       "      <td>IT</td>\n",
       "    </tr>\n",
       "    <tr>\n",
       "      <th>2</th>\n",
       "      <td>3</td>\n",
       "      <td>Charlie</td>\n",
       "      <td>35</td>\n",
       "      <td>70000</td>\n",
       "      <td>Finance</td>\n",
       "    </tr>\n",
       "    <tr>\n",
       "      <th>3</th>\n",
       "      <td>4</td>\n",
       "      <td>David</td>\n",
       "      <td>40</td>\n",
       "      <td>80000</td>\n",
       "      <td>IT</td>\n",
       "    </tr>\n",
       "    <tr>\n",
       "      <th>4</th>\n",
       "      <td>5</td>\n",
       "      <td>Eve</td>\n",
       "      <td>22</td>\n",
       "      <td>45000</td>\n",
       "      <td>HR</td>\n",
       "    </tr>\n",
       "  </tbody>\n",
       "</table>\n",
       "</div>"
      ],
      "text/plain": [
       "   id     name  age  salary department\n",
       "0   1    Alice   25   50000         HR\n",
       "1   2      Bob   30   60000         IT\n",
       "2   3  Charlie   35   70000    Finance\n",
       "3   4    David   40   80000         IT\n",
       "4   5      Eve   22   45000         HR"
      ]
     },
     "metadata": {},
     "output_type": "display_data"
    },
    {
     "name": "stdout",
     "output_type": "stream",
     "text": [
      "(4, 3)\n"
     ]
    },
    {
     "data": {
      "text/html": [
       "<div>\n",
       "<style scoped>\n",
       "    .dataframe tbody tr th:only-of-type {\n",
       "        vertical-align: middle;\n",
       "    }\n",
       "\n",
       "    .dataframe tbody tr th {\n",
       "        vertical-align: top;\n",
       "    }\n",
       "\n",
       "    .dataframe thead th {\n",
       "        text-align: right;\n",
       "    }\n",
       "</style>\n",
       "<table border=\"1\" class=\"dataframe\">\n",
       "  <thead>\n",
       "    <tr style=\"text-align: right;\">\n",
       "      <th></th>\n",
       "      <th>id</th>\n",
       "      <th>name</th>\n",
       "      <th>performance_score</th>\n",
       "    </tr>\n",
       "  </thead>\n",
       "  <tbody>\n",
       "    <tr>\n",
       "      <th>0</th>\n",
       "      <td>3</td>\n",
       "      <td>Charlie</td>\n",
       "      <td>90</td>\n",
       "    </tr>\n",
       "    <tr>\n",
       "      <th>1</th>\n",
       "      <td>4</td>\n",
       "      <td>David</td>\n",
       "      <td>85</td>\n",
       "    </tr>\n",
       "    <tr>\n",
       "      <th>2</th>\n",
       "      <td>5</td>\n",
       "      <td>Eve</td>\n",
       "      <td>88</td>\n",
       "    </tr>\n",
       "    <tr>\n",
       "      <th>3</th>\n",
       "      <td>6</td>\n",
       "      <td>Frank</td>\n",
       "      <td>75</td>\n",
       "    </tr>\n",
       "  </tbody>\n",
       "</table>\n",
       "</div>"
      ],
      "text/plain": [
       "   id     name  performance_score\n",
       "0   3  Charlie                 90\n",
       "1   4    David                 85\n",
       "2   5      Eve                 88\n",
       "3   6    Frank                 75"
      ]
     },
     "metadata": {},
     "output_type": "display_data"
    }
   ],
   "source": [
    "# Creating sample data for demonstration\n",
    "employees = pd.DataFrame({\n",
    "    'id': [1, 2, 3, 4, 5],\n",
    "    'name': ['Alice', 'Bob', 'Charlie', 'David', 'Eve'],\n",
    "    'age': [25, 30, 35, 40, 22],\n",
    "    'salary': [50000, 60000, 70000, 80000, 45000],\n",
    "    'department': ['HR', 'IT', 'Finance', 'IT', 'HR']\n",
    "})\n",
    "\n",
    "performance = pd.DataFrame({\n",
    "    'id': [3, 4, 5, 6],\n",
    "    'name': ['Charlie', 'David', 'Eve', 'Frank'],\n",
    "    'performance_score': [90, 85, 88, 75]\n",
    "})\n",
    "# Display dataframes and shape\n",
    "print(employees.shape)\n",
    "display(employees)\n",
    "print(performance.shape)\n",
    "display(performance)"
   ]
  },
  {
   "cell_type": "markdown",
   "id": "18410d95",
   "metadata": {},
   "source": [
    "### From a CSV/JSON"
   ]
  },
  {
   "cell_type": "markdown",
   "id": "0d4dd43c",
   "metadata": {},
   "source": [
    "## Querying Dataframes"
   ]
  },
  {
   "cell_type": "markdown",
   "id": "6d75e39e",
   "metadata": {},
   "source": [
    "### iloc: integer-based indexing \n",
    "df.iloc[row_index, column_index]\n",
    "- row_index: Integer(s) representing row position(s)\n",
    "- column_index: Integer(s) representing column position(s)\n",
    "- if only 1 value passsed, assumed as a row\n",
    "\n",
    "| Usage                                      | Example                          |\n",
    "|--------------------------------------------|----------------------------------|\n",
    "| Select a single row                        | `employees.iloc[2]`              |\n",
    "| Select multiple rows                       | `employees.iloc[[0, 2]]`         |\n",
    "| Select a row range                         | `employees.iloc[1:3]`            |\n",
    "| Select a single column                     | `employees.iloc[:, 1]`           |\n",
    "| Select multiple columns                    | `employees.iloc[:, [0, 2]]`      |\n",
    "| Select a row & column                      | `employees.iloc[0, 1]`           |\n",
    "| Select row & column ranges                 | `employees.iloc[1:3, 0:2]`       |\n",
    "| Select the last row                        | `employees.iloc[-1]`             |\n",
    "| Select last 3 rows & last 2 columns        | `employees.iloc[-3:, -2:]`       |\n",
    "| Assign a value                             | `employees.iloc[0, 1] = \"Updated\"` |\n"
   ]
  },
  {
   "cell_type": "code",
   "execution_count": 32,
   "id": "ed5520d0",
   "metadata": {},
   "outputs": [
    {
     "data": {
      "text/html": [
       "<div>\n",
       "<style scoped>\n",
       "    .dataframe tbody tr th:only-of-type {\n",
       "        vertical-align: middle;\n",
       "    }\n",
       "\n",
       "    .dataframe tbody tr th {\n",
       "        vertical-align: top;\n",
       "    }\n",
       "\n",
       "    .dataframe thead th {\n",
       "        text-align: right;\n",
       "    }\n",
       "</style>\n",
       "<table border=\"1\" class=\"dataframe\">\n",
       "  <thead>\n",
       "    <tr style=\"text-align: right;\">\n",
       "      <th></th>\n",
       "      <th>id</th>\n",
       "      <th>name</th>\n",
       "      <th>age</th>\n",
       "      <th>salary</th>\n",
       "      <th>department</th>\n",
       "    </tr>\n",
       "  </thead>\n",
       "  <tbody>\n",
       "    <tr>\n",
       "      <th>0</th>\n",
       "      <td>1</td>\n",
       "      <td>Alice</td>\n",
       "      <td>25</td>\n",
       "      <td>50000</td>\n",
       "      <td>HR</td>\n",
       "    </tr>\n",
       "  </tbody>\n",
       "</table>\n",
       "</div>"
      ],
      "text/plain": [
       "   id   name  age  salary department\n",
       "0   1  Alice   25   50000         HR"
      ]
     },
     "execution_count": 32,
     "metadata": {},
     "output_type": "execute_result"
    }
   ],
   "source": [
    "employees.iloc[[0]] #Return first row of data - assumes all columns if not specified - the extra [] returns as a dataframe"
   ]
  },
  {
   "cell_type": "code",
   "execution_count": 36,
   "id": "6c59d118",
   "metadata": {},
   "outputs": [
    {
     "data": {
      "text/html": [
       "<div>\n",
       "<style scoped>\n",
       "    .dataframe tbody tr th:only-of-type {\n",
       "        vertical-align: middle;\n",
       "    }\n",
       "\n",
       "    .dataframe tbody tr th {\n",
       "        vertical-align: top;\n",
       "    }\n",
       "\n",
       "    .dataframe thead th {\n",
       "        text-align: right;\n",
       "    }\n",
       "</style>\n",
       "<table border=\"1\" class=\"dataframe\">\n",
       "  <thead>\n",
       "    <tr style=\"text-align: right;\">\n",
       "      <th></th>\n",
       "      <th>salary</th>\n",
       "    </tr>\n",
       "  </thead>\n",
       "  <tbody>\n",
       "    <tr>\n",
       "      <th>0</th>\n",
       "      <td>50000</td>\n",
       "    </tr>\n",
       "    <tr>\n",
       "      <th>1</th>\n",
       "      <td>60000</td>\n",
       "    </tr>\n",
       "    <tr>\n",
       "      <th>2</th>\n",
       "      <td>70000</td>\n",
       "    </tr>\n",
       "    <tr>\n",
       "      <th>3</th>\n",
       "      <td>80000</td>\n",
       "    </tr>\n",
       "    <tr>\n",
       "      <th>4</th>\n",
       "      <td>45000</td>\n",
       "    </tr>\n",
       "  </tbody>\n",
       "</table>\n",
       "</div>"
      ],
      "text/plain": [
       "   salary\n",
       "0   50000\n",
       "1   60000\n",
       "2   70000\n",
       "3   80000\n",
       "4   45000"
      ]
     },
     "execution_count": 36,
     "metadata": {},
     "output_type": "execute_result"
    }
   ],
   "source": [
    "employees.iloc[:, [3]] # Returns all rows from the 4th column - the extra [] is only needed on column since : calls all rows"
   ]
  },
  {
   "cell_type": "code",
   "execution_count": 38,
   "id": "e0e591ca",
   "metadata": {},
   "outputs": [
    {
     "data": {
      "text/plain": [
       "80000"
      ]
     },
     "execution_count": 38,
     "metadata": {},
     "output_type": "execute_result"
    }
   ],
   "source": [
    "employees.iloc[3,3] # Returns the value at the 4th row and 4th column - excluding the extra [] leaves it was a value"
   ]
  },
  {
   "cell_type": "code",
   "execution_count": 39,
   "id": "c851fc8e",
   "metadata": {},
   "outputs": [
    {
     "data": {
      "text/html": [
       "<div>\n",
       "<style scoped>\n",
       "    .dataframe tbody tr th:only-of-type {\n",
       "        vertical-align: middle;\n",
       "    }\n",
       "\n",
       "    .dataframe tbody tr th {\n",
       "        vertical-align: top;\n",
       "    }\n",
       "\n",
       "    .dataframe thead th {\n",
       "        text-align: right;\n",
       "    }\n",
       "</style>\n",
       "<table border=\"1\" class=\"dataframe\">\n",
       "  <thead>\n",
       "    <tr style=\"text-align: right;\">\n",
       "      <th></th>\n",
       "      <th>id</th>\n",
       "      <th>age</th>\n",
       "    </tr>\n",
       "  </thead>\n",
       "  <tbody>\n",
       "    <tr>\n",
       "      <th>0</th>\n",
       "      <td>1</td>\n",
       "      <td>25</td>\n",
       "    </tr>\n",
       "    <tr>\n",
       "      <th>1</th>\n",
       "      <td>2</td>\n",
       "      <td>30</td>\n",
       "    </tr>\n",
       "    <tr>\n",
       "      <th>2</th>\n",
       "      <td>3</td>\n",
       "      <td>35</td>\n",
       "    </tr>\n",
       "    <tr>\n",
       "      <th>3</th>\n",
       "      <td>4</td>\n",
       "      <td>40</td>\n",
       "    </tr>\n",
       "    <tr>\n",
       "      <th>4</th>\n",
       "      <td>5</td>\n",
       "      <td>22</td>\n",
       "    </tr>\n",
       "  </tbody>\n",
       "</table>\n",
       "</div>"
      ],
      "text/plain": [
       "   id  age\n",
       "0   1   25\n",
       "1   2   30\n",
       "2   3   35\n",
       "3   4   40\n",
       "4   5   22"
      ]
     },
     "execution_count": 39,
     "metadata": {},
     "output_type": "execute_result"
    }
   ],
   "source": [
    "employees.iloc[:, [0, 2]] # Returns all rows for columns 1 and 3"
   ]
  },
  {
   "cell_type": "markdown",
   "id": "333f9784",
   "metadata": {},
   "source": [
    "### loc: label-based indexing\n",
    "df.loc[row_label, column_label]\n",
    "- row_label: Row index labels (can be values or conditions)\n",
    "- column_label: Column names\n",
    "- if only 1 value passed, assumes it's a row\n",
    "\n",
    "| Usage                                      | Example                          |\n",
    "|--------------------------------------------|----------------------------------|\n",
    "| Select a single row                        | `employees.loc[2]`               |\n",
    "| Select multiple rows                       | `employees.loc[[0, 2]]`          |\n",
    "| Select a row range                         | `employees.loc[1:3]`             |\n",
    "| Select a single column                     | `employees.loc[:, 'ColumnName']` |\n",
    "| Select multiple columns                    | `employees.loc[:, ['Col1', 'Col2']]` |\n",
    "| Select a row & column                      | `employees.loc[0, 'ColumnName']` |\n",
    "| Select row & column ranges                 | `employees.loc[1:3, 'Col1':'Col2']` |\n",
    "| Select the last row                        | `employees.loc[df.index[-1]]`    |\n",
    "| Select last 3 rows & last 2 columns        | `employees.loc[df.index[-3:], df.columns[-2:]]` |\n",
    "| Assign a value                             | `employees.loc[0, 'ColumnName'] = \"Updated\"` |"
   ]
  },
  {
   "cell_type": "markdown",
   "id": "a5941282",
   "metadata": {},
   "source": [
    "### Apply"
   ]
  },
  {
   "cell_type": "markdown",
   "id": "8f7720d2",
   "metadata": {},
   "source": [
    "### Regex"
   ]
  },
  {
   "cell_type": "markdown",
   "id": "2aeaff90",
   "metadata": {},
   "source": [
    "| **Symbol**        | **Meaning**                          |\n",
    "|-------------------|--------------------------------------|\n",
    "| `^`               | Start of string                      |\n",
    "| `$`               | End of string                        |\n",
    "| `.`               | Any character                        |\n",
    "| `\\d`              | Digit (0–9)                          |\n",
    "| `\\D`              | Non-digit                            |\n",
    "| `\\w`              | Word character (letters, digits, _)   |\n",
    "| `\\s`              | Whitespace                           |\n",
    "| `*`               | 0 or more occurrences                |\n",
    "| `+`               | 1 or more occurrences                |\n",
    "| `?`               | 0 or 1 occurrence                    |\n"
   ]
  },
  {
   "cell_type": "markdown",
   "id": "a9f3bf1e",
   "metadata": {},
   "source": [
    "### Group By"
   ]
  },
  {
   "cell_type": "markdown",
   "id": "f9d937ab",
   "metadata": {},
   "source": [
    "## Joining DataFrames"
   ]
  },
  {
   "cell_type": "markdown",
   "id": "06f421e3",
   "metadata": {},
   "source": [
    "## Organizing Results"
   ]
  },
  {
   "cell_type": "markdown",
   "id": "44f24f9c",
   "metadata": {},
   "source": [
    "### Drop Duplicates"
   ]
  },
  {
   "cell_type": "markdown",
   "id": "100a1d35",
   "metadata": {},
   "source": [
    "### Rename Columns"
   ]
  },
  {
   "cell_type": "markdown",
   "id": "ac1c7b7e",
   "metadata": {},
   "source": [
    "### Sort Values"
   ]
  }
 ],
 "metadata": {
  "kernelspec": {
   "display_name": "CMC",
   "language": "python",
   "name": "python3"
  },
  "language_info": {
   "codemirror_mode": {
    "name": "ipython",
    "version": 3
   },
   "file_extension": ".py",
   "mimetype": "text/x-python",
   "name": "python",
   "nbconvert_exporter": "python",
   "pygments_lexer": "ipython3",
   "version": "3.10.0"
  }
 },
 "nbformat": 4,
 "nbformat_minor": 5
}

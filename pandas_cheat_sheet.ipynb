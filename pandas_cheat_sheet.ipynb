{
 "cells": [
  {
   "cell_type": "markdown",
   "id": "71f5fbbb",
   "metadata": {},
   "source": [
    "# Pandas Cheat Sheet"
   ]
  },
  {
   "cell_type": "code",
   "execution_count": 1,
   "id": "19f66734",
   "metadata": {},
   "outputs": [],
   "source": [
    "import pandas as pd"
   ]
  },
  {
   "cell_type": "markdown",
   "id": "ff467503",
   "metadata": {},
   "source": [
    "## Creating DataFrames"
   ]
  },
  {
   "cell_type": "markdown",
   "id": "48462d84",
   "metadata": {},
   "source": [
    "### From Scratch"
   ]
  },
  {
   "cell_type": "code",
   "execution_count": 2,
   "id": "ad76fc02",
   "metadata": {},
   "outputs": [
    {
     "data": {
      "text/html": [
       "<div>\n",
       "<style scoped>\n",
       "    .dataframe tbody tr th:only-of-type {\n",
       "        vertical-align: middle;\n",
       "    }\n",
       "\n",
       "    .dataframe tbody tr th {\n",
       "        vertical-align: top;\n",
       "    }\n",
       "\n",
       "    .dataframe thead th {\n",
       "        text-align: right;\n",
       "    }\n",
       "</style>\n",
       "<table border=\"1\" class=\"dataframe\">\n",
       "  <thead>\n",
       "    <tr style=\"text-align: right;\">\n",
       "      <th></th>\n",
       "      <th>id</th>\n",
       "      <th>name</th>\n",
       "      <th>age</th>\n",
       "      <th>salary</th>\n",
       "      <th>department</th>\n",
       "    </tr>\n",
       "  </thead>\n",
       "  <tbody>\n",
       "    <tr>\n",
       "      <th>0</th>\n",
       "      <td>1</td>\n",
       "      <td>Alice</td>\n",
       "      <td>25</td>\n",
       "      <td>50000</td>\n",
       "      <td>HR</td>\n",
       "    </tr>\n",
       "    <tr>\n",
       "      <th>1</th>\n",
       "      <td>2</td>\n",
       "      <td>Bob</td>\n",
       "      <td>30</td>\n",
       "      <td>60000</td>\n",
       "      <td>IT</td>\n",
       "    </tr>\n",
       "    <tr>\n",
       "      <th>2</th>\n",
       "      <td>3</td>\n",
       "      <td>Charlie</td>\n",
       "      <td>35</td>\n",
       "      <td>70000</td>\n",
       "      <td>Finance</td>\n",
       "    </tr>\n",
       "    <tr>\n",
       "      <th>3</th>\n",
       "      <td>4</td>\n",
       "      <td>David</td>\n",
       "      <td>40</td>\n",
       "      <td>80000</td>\n",
       "      <td>IT</td>\n",
       "    </tr>\n",
       "    <tr>\n",
       "      <th>4</th>\n",
       "      <td>5</td>\n",
       "      <td>Eve</td>\n",
       "      <td>22</td>\n",
       "      <td>45000</td>\n",
       "      <td>HR</td>\n",
       "    </tr>\n",
       "  </tbody>\n",
       "</table>\n",
       "</div>"
      ],
      "text/plain": [
       "   id     name  age  salary department\n",
       "0   1    Alice   25   50000         HR\n",
       "1   2      Bob   30   60000         IT\n",
       "2   3  Charlie   35   70000    Finance\n",
       "3   4    David   40   80000         IT\n",
       "4   5      Eve   22   45000         HR"
      ]
     },
     "metadata": {},
     "output_type": "display_data"
    }
   ],
   "source": [
    "# dictionary of lists\n",
    "employees = pd.DataFrame({\n",
    "    'id': [1, 2, 3, 4, 5],\n",
    "    'name': ['Alice', 'Bob', 'Charlie', 'David', 'Eve'],\n",
    "    'age': [25, 30, 35, 40, 22],\n",
    "    'salary': [50000, 60000, 70000, 80000, 45000],\n",
    "    'department': ['HR', 'IT', 'Finance', 'IT', 'HR']\n",
    "})\n",
    "\n",
    "display(employees)"
   ]
  },
  {
   "cell_type": "code",
   "execution_count": 3,
   "id": "ac7df3f2",
   "metadata": {},
   "outputs": [
    {
     "data": {
      "text/html": [
       "<div>\n",
       "<style scoped>\n",
       "    .dataframe tbody tr th:only-of-type {\n",
       "        vertical-align: middle;\n",
       "    }\n",
       "\n",
       "    .dataframe tbody tr th {\n",
       "        vertical-align: top;\n",
       "    }\n",
       "\n",
       "    .dataframe thead th {\n",
       "        text-align: right;\n",
       "    }\n",
       "</style>\n",
       "<table border=\"1\" class=\"dataframe\">\n",
       "  <thead>\n",
       "    <tr style=\"text-align: right;\">\n",
       "      <th></th>\n",
       "      <th>id</th>\n",
       "      <th>years_of_experience</th>\n",
       "    </tr>\n",
       "  </thead>\n",
       "  <tbody>\n",
       "    <tr>\n",
       "      <th>0</th>\n",
       "      <td>1</td>\n",
       "      <td>2</td>\n",
       "    </tr>\n",
       "    <tr>\n",
       "      <th>1</th>\n",
       "      <td>2</td>\n",
       "      <td>5</td>\n",
       "    </tr>\n",
       "    <tr>\n",
       "      <th>2</th>\n",
       "      <td>3</td>\n",
       "      <td>7</td>\n",
       "    </tr>\n",
       "    <tr>\n",
       "      <th>3</th>\n",
       "      <td>4</td>\n",
       "      <td>10</td>\n",
       "    </tr>\n",
       "    <tr>\n",
       "      <th>4</th>\n",
       "      <td>5</td>\n",
       "      <td>1</td>\n",
       "    </tr>\n",
       "  </tbody>\n",
       "</table>\n",
       "</div>"
      ],
      "text/plain": [
       "   id  years_of_experience\n",
       "0   1                    2\n",
       "1   2                    5\n",
       "2   3                    7\n",
       "3   4                   10\n",
       "4   5                    1"
      ]
     },
     "metadata": {},
     "output_type": "display_data"
    }
   ],
   "source": [
    "# list of lists + columns\n",
    "experience = pd.DataFrame([\n",
    "    [1, 2],\n",
    "    [2, 5],\n",
    "    [3, 7],\n",
    "    [4, 10],\n",
    "    [5, 1]\n",
    "], columns=['id', 'years_of_experience'])\n",
    "\n",
    "display(experience)"
   ]
  },
  {
   "cell_type": "markdown",
   "id": "4a491c7a",
   "metadata": {},
   "source": [
    "### From a CSV"
   ]
  },
  {
   "cell_type": "code",
   "execution_count": 4,
   "id": "9b70b452",
   "metadata": {},
   "outputs": [
    {
     "name": "stdout",
     "output_type": "stream",
     "text": [
      "<class 'pandas.core.frame.DataFrame'>\n",
      "RangeIndex: 45 entries, 0 to 44\n",
      "Data columns (total 4 columns):\n",
      " #   Column          Non-Null Count  Dtype \n",
      "---  ------          --------------  ----- \n",
      " 0   employee_id     45 non-null     int64 \n",
      " 1   date            45 non-null     object\n",
      " 2   clock_in_time   45 non-null     object\n",
      " 3   clock_out_time  45 non-null     object\n",
      "dtypes: int64(1), object(3)\n",
      "memory usage: 1.5+ KB\n"
     ]
    }
   ],
   "source": [
    "attendance = pd.read_csv(r'./data/attendance.csv') #for excel, sub csv to excel\n",
    "attendance.info() # great way to investigate a dataframe"
   ]
  },
  {
   "cell_type": "markdown",
   "id": "18410d95",
   "metadata": {},
   "source": [
    "### From a JSON"
   ]
  },
  {
   "cell_type": "code",
   "execution_count": null,
   "id": "030a0711",
   "metadata": {},
   "outputs": [
    {
     "name": "stdout",
     "output_type": "stream",
     "text": [
      "<class 'list'>\n",
      "First element: {'id': 1, 'address': {'street': '123 Maple St', 'city': 'Springfield', 'state': 'IL', 'zip_code': '62704', 'country': 'USA'}}\n"
     ]
    }
   ],
   "source": [
    "import json\n",
    "\n",
    "# Read JSON into memory as a list of dictionaries\n",
    "with open(r'./data/addresses.json', 'r') as file:\n",
    "    data = json.load(file)\n",
    "\n",
    "print(type(data))\n",
    "print(\"First element:\", data[0]) #Print first element"
   ]
  },
  {
   "cell_type": "code",
   "execution_count": 6,
   "id": "e0dd3b7a",
   "metadata": {},
   "outputs": [
    {
     "data": {
      "text/html": [
       "<div>\n",
       "<style scoped>\n",
       "    .dataframe tbody tr th:only-of-type {\n",
       "        vertical-align: middle;\n",
       "    }\n",
       "\n",
       "    .dataframe tbody tr th {\n",
       "        vertical-align: top;\n",
       "    }\n",
       "\n",
       "    .dataframe thead th {\n",
       "        text-align: right;\n",
       "    }\n",
       "</style>\n",
       "<table border=\"1\" class=\"dataframe\">\n",
       "  <thead>\n",
       "    <tr style=\"text-align: right;\">\n",
       "      <th></th>\n",
       "      <th>id</th>\n",
       "      <th>address</th>\n",
       "    </tr>\n",
       "  </thead>\n",
       "  <tbody>\n",
       "    <tr>\n",
       "      <th>0</th>\n",
       "      <td>1</td>\n",
       "      <td>{'street': '123 Maple St', 'city': 'Springfiel...</td>\n",
       "    </tr>\n",
       "    <tr>\n",
       "      <th>1</th>\n",
       "      <td>2</td>\n",
       "      <td>{'street': '456 Oak Ave', 'city': 'Austin', 's...</td>\n",
       "    </tr>\n",
       "    <tr>\n",
       "      <th>2</th>\n",
       "      <td>3</td>\n",
       "      <td>{'street': '789 Pine Rd', 'city': 'Columbus', ...</td>\n",
       "    </tr>\n",
       "    <tr>\n",
       "      <th>3</th>\n",
       "      <td>4</td>\n",
       "      <td>{'street': '101 Birch Blvd', 'city': 'Denver',...</td>\n",
       "    </tr>\n",
       "    <tr>\n",
       "      <th>4</th>\n",
       "      <td>5</td>\n",
       "      <td>{'street': '202 Cedar Ln', 'city': 'Seattle', ...</td>\n",
       "    </tr>\n",
       "  </tbody>\n",
       "</table>\n",
       "</div>"
      ],
      "text/plain": [
       "   id                                            address\n",
       "0   1  {'street': '123 Maple St', 'city': 'Springfiel...\n",
       "1   2  {'street': '456 Oak Ave', 'city': 'Austin', 's...\n",
       "2   3  {'street': '789 Pine Rd', 'city': 'Columbus', ...\n",
       "3   4  {'street': '101 Birch Blvd', 'city': 'Denver',...\n",
       "4   5  {'street': '202 Cedar Ln', 'city': 'Seattle', ..."
      ]
     },
     "metadata": {},
     "output_type": "display_data"
    }
   ],
   "source": [
    "addresses = pd.DataFrame(data) #Convert to DataFrame\n",
    "display(addresses)"
   ]
  },
  {
   "cell_type": "code",
   "execution_count": 7,
   "id": "38296c68",
   "metadata": {},
   "outputs": [
    {
     "data": {
      "text/html": [
       "<div>\n",
       "<style scoped>\n",
       "    .dataframe tbody tr th:only-of-type {\n",
       "        vertical-align: middle;\n",
       "    }\n",
       "\n",
       "    .dataframe tbody tr th {\n",
       "        vertical-align: top;\n",
       "    }\n",
       "\n",
       "    .dataframe thead th {\n",
       "        text-align: right;\n",
       "    }\n",
       "</style>\n",
       "<table border=\"1\" class=\"dataframe\">\n",
       "  <thead>\n",
       "    <tr style=\"text-align: right;\">\n",
       "      <th></th>\n",
       "      <th>id</th>\n",
       "      <th>address.street</th>\n",
       "      <th>address.city</th>\n",
       "      <th>address.state</th>\n",
       "      <th>address.zip_code</th>\n",
       "      <th>address.country</th>\n",
       "    </tr>\n",
       "  </thead>\n",
       "  <tbody>\n",
       "    <tr>\n",
       "      <th>0</th>\n",
       "      <td>1</td>\n",
       "      <td>123 Maple St</td>\n",
       "      <td>Springfield</td>\n",
       "      <td>IL</td>\n",
       "      <td>62704</td>\n",
       "      <td>USA</td>\n",
       "    </tr>\n",
       "    <tr>\n",
       "      <th>1</th>\n",
       "      <td>2</td>\n",
       "      <td>456 Oak Ave</td>\n",
       "      <td>Austin</td>\n",
       "      <td>TX</td>\n",
       "      <td>73301</td>\n",
       "      <td>USA</td>\n",
       "    </tr>\n",
       "    <tr>\n",
       "      <th>2</th>\n",
       "      <td>3</td>\n",
       "      <td>789 Pine Rd</td>\n",
       "      <td>Columbus</td>\n",
       "      <td>OH</td>\n",
       "      <td>43215</td>\n",
       "      <td>USA</td>\n",
       "    </tr>\n",
       "    <tr>\n",
       "      <th>3</th>\n",
       "      <td>4</td>\n",
       "      <td>101 Birch Blvd</td>\n",
       "      <td>Denver</td>\n",
       "      <td>CO</td>\n",
       "      <td>80202</td>\n",
       "      <td>USA</td>\n",
       "    </tr>\n",
       "    <tr>\n",
       "      <th>4</th>\n",
       "      <td>5</td>\n",
       "      <td>202 Cedar Ln</td>\n",
       "      <td>Seattle</td>\n",
       "      <td>WA</td>\n",
       "      <td>98101</td>\n",
       "      <td>USA</td>\n",
       "    </tr>\n",
       "  </tbody>\n",
       "</table>\n",
       "</div>"
      ],
      "text/plain": [
       "   id  address.street address.city address.state address.zip_code  \\\n",
       "0   1    123 Maple St  Springfield            IL            62704   \n",
       "1   2     456 Oak Ave       Austin            TX            73301   \n",
       "2   3     789 Pine Rd     Columbus            OH            43215   \n",
       "3   4  101 Birch Blvd       Denver            CO            80202   \n",
       "4   5    202 Cedar Ln      Seattle            WA            98101   \n",
       "\n",
       "  address.country  \n",
       "0             USA  \n",
       "1             USA  \n",
       "2             USA  \n",
       "3             USA  \n",
       "4             USA  "
      ]
     },
     "metadata": {},
     "output_type": "display_data"
    }
   ],
   "source": [
    "addresses = pd.json_normalize(data) #flatten nested json into rows\n",
    "display(addresses)"
   ]
  },
  {
   "cell_type": "code",
   "execution_count": 8,
   "id": "f6e681dd",
   "metadata": {},
   "outputs": [
    {
     "data": {
      "text/html": [
       "<div>\n",
       "<style scoped>\n",
       "    .dataframe tbody tr th:only-of-type {\n",
       "        vertical-align: middle;\n",
       "    }\n",
       "\n",
       "    .dataframe tbody tr th {\n",
       "        vertical-align: top;\n",
       "    }\n",
       "\n",
       "    .dataframe thead th {\n",
       "        text-align: right;\n",
       "    }\n",
       "</style>\n",
       "<table border=\"1\" class=\"dataframe\">\n",
       "  <thead>\n",
       "    <tr style=\"text-align: right;\">\n",
       "      <th></th>\n",
       "      <th>id</th>\n",
       "      <th>street</th>\n",
       "      <th>city</th>\n",
       "      <th>state</th>\n",
       "      <th>zip_code</th>\n",
       "      <th>country</th>\n",
       "    </tr>\n",
       "  </thead>\n",
       "  <tbody>\n",
       "    <tr>\n",
       "      <th>0</th>\n",
       "      <td>1</td>\n",
       "      <td>123 Maple St</td>\n",
       "      <td>Springfield</td>\n",
       "      <td>IL</td>\n",
       "      <td>62704</td>\n",
       "      <td>USA</td>\n",
       "    </tr>\n",
       "    <tr>\n",
       "      <th>1</th>\n",
       "      <td>2</td>\n",
       "      <td>456 Oak Ave</td>\n",
       "      <td>Austin</td>\n",
       "      <td>TX</td>\n",
       "      <td>73301</td>\n",
       "      <td>USA</td>\n",
       "    </tr>\n",
       "    <tr>\n",
       "      <th>2</th>\n",
       "      <td>3</td>\n",
       "      <td>789 Pine Rd</td>\n",
       "      <td>Columbus</td>\n",
       "      <td>OH</td>\n",
       "      <td>43215</td>\n",
       "      <td>USA</td>\n",
       "    </tr>\n",
       "    <tr>\n",
       "      <th>3</th>\n",
       "      <td>4</td>\n",
       "      <td>101 Birch Blvd</td>\n",
       "      <td>Denver</td>\n",
       "      <td>CO</td>\n",
       "      <td>80202</td>\n",
       "      <td>USA</td>\n",
       "    </tr>\n",
       "    <tr>\n",
       "      <th>4</th>\n",
       "      <td>5</td>\n",
       "      <td>202 Cedar Ln</td>\n",
       "      <td>Seattle</td>\n",
       "      <td>WA</td>\n",
       "      <td>98101</td>\n",
       "      <td>USA</td>\n",
       "    </tr>\n",
       "  </tbody>\n",
       "</table>\n",
       "</div>"
      ],
      "text/plain": [
       "   id          street         city state zip_code country\n",
       "0   1    123 Maple St  Springfield    IL    62704     USA\n",
       "1   2     456 Oak Ave       Austin    TX    73301     USA\n",
       "2   3     789 Pine Rd     Columbus    OH    43215     USA\n",
       "3   4  101 Birch Blvd       Denver    CO    80202     USA\n",
       "4   5    202 Cedar Ln      Seattle    WA    98101     USA"
      ]
     },
     "metadata": {},
     "output_type": "display_data"
    }
   ],
   "source": [
    "addresses.rename(\n",
    "    columns={'address.street':'street', 'address.city':'city', 'address.state':'state', 'address.zip_code':'zip_code','address.country':'country'}, \n",
    "    inplace=True) #rename column headers inplace\n",
    "display(addresses)"
   ]
  },
  {
   "cell_type": "markdown",
   "id": "649c06d0",
   "metadata": {},
   "source": [
    "___"
   ]
  },
  {
   "cell_type": "markdown",
   "id": "0d4dd43c",
   "metadata": {},
   "source": [
    "## Basic Querying with iloc and loc"
   ]
  },
  {
   "cell_type": "markdown",
   "id": "6d75e39e",
   "metadata": {},
   "source": [
    "### iloc: integer-based indexing \n",
    " `df.iloc[row_index, column_index]`\n",
    "- row_index: Integer(s) representing row position(s)\n",
    "- column_index: Integer(s) representing column position(s)\n",
    "- if only 1 value passsed, assumed as a row\n",
    "\n",
    "| Usage                                      | Example                          |\n",
    "|--------------------------------------------|----------------------------------|\n",
    "| Select a single row                        | `employees.iloc[2]`              |\n",
    "| Select multiple rows                       | `employees.iloc[[0, 2]]`         |\n",
    "| Select a row range                         | `employees.iloc[1:3]`            |\n",
    "| Select a single column                     | `employees.iloc[:, 1]`           |\n",
    "| Select multiple columns                    | `employees.iloc[:, [0, 2]]`      |\n",
    "| Select a row & column                      | `employees.iloc[0, 1]`           |\n",
    "| Select row & column ranges                 | `employees.iloc[1:3, 0:2]`       |\n",
    "| Select the last row                        | `employees.iloc[-1]`             |\n",
    "| Select last 3 rows & last 2 columns        | `employees.iloc[-3:, -2:]`       |\n",
    "| Assign a value                             | `employees.iloc[0, 1] = \"Updated\"` |\n"
   ]
  },
  {
   "cell_type": "code",
   "execution_count": null,
   "id": "ed5520d0",
   "metadata": {},
   "outputs": [
    {
     "data": {
      "text/plain": [
       "id                1\n",
       "name          Alice\n",
       "age              25\n",
       "salary        50000\n",
       "department       HR\n",
       "Name: 0, dtype: object"
      ]
     },
     "execution_count": 9,
     "metadata": {},
     "output_type": "execute_result"
    }
   ],
   "source": [
    "employees.iloc[0] #Return first row of data - assumes all columns if not specified "
   ]
  },
  {
   "cell_type": "code",
   "execution_count": null,
   "id": "d51507bc",
   "metadata": {},
   "outputs": [
    {
     "data": {
      "text/html": [
       "<div>\n",
       "<style scoped>\n",
       "    .dataframe tbody tr th:only-of-type {\n",
       "        vertical-align: middle;\n",
       "    }\n",
       "\n",
       "    .dataframe tbody tr th {\n",
       "        vertical-align: top;\n",
       "    }\n",
       "\n",
       "    .dataframe thead th {\n",
       "        text-align: right;\n",
       "    }\n",
       "</style>\n",
       "<table border=\"1\" class=\"dataframe\">\n",
       "  <thead>\n",
       "    <tr style=\"text-align: right;\">\n",
       "      <th></th>\n",
       "      <th>id</th>\n",
       "      <th>name</th>\n",
       "      <th>age</th>\n",
       "      <th>salary</th>\n",
       "      <th>department</th>\n",
       "    </tr>\n",
       "  </thead>\n",
       "  <tbody>\n",
       "    <tr>\n",
       "      <th>0</th>\n",
       "      <td>1</td>\n",
       "      <td>Alice</td>\n",
       "      <td>25</td>\n",
       "      <td>50000</td>\n",
       "      <td>HR</td>\n",
       "    </tr>\n",
       "  </tbody>\n",
       "</table>\n",
       "</div>"
      ],
      "text/plain": [
       "   id   name  age  salary department\n",
       "0   1  Alice   25   50000         HR"
      ]
     },
     "execution_count": 10,
     "metadata": {},
     "output_type": "execute_result"
    }
   ],
   "source": [
    "employees.iloc[[0]] #Notice how the extra [] returns as a dataframe"
   ]
  },
  {
   "cell_type": "code",
   "execution_count": 11,
   "id": "6c59d118",
   "metadata": {},
   "outputs": [
    {
     "data": {
      "text/html": [
       "<div>\n",
       "<style scoped>\n",
       "    .dataframe tbody tr th:only-of-type {\n",
       "        vertical-align: middle;\n",
       "    }\n",
       "\n",
       "    .dataframe tbody tr th {\n",
       "        vertical-align: top;\n",
       "    }\n",
       "\n",
       "    .dataframe thead th {\n",
       "        text-align: right;\n",
       "    }\n",
       "</style>\n",
       "<table border=\"1\" class=\"dataframe\">\n",
       "  <thead>\n",
       "    <tr style=\"text-align: right;\">\n",
       "      <th></th>\n",
       "      <th>salary</th>\n",
       "    </tr>\n",
       "  </thead>\n",
       "  <tbody>\n",
       "    <tr>\n",
       "      <th>0</th>\n",
       "      <td>50000</td>\n",
       "    </tr>\n",
       "    <tr>\n",
       "      <th>1</th>\n",
       "      <td>60000</td>\n",
       "    </tr>\n",
       "    <tr>\n",
       "      <th>2</th>\n",
       "      <td>70000</td>\n",
       "    </tr>\n",
       "    <tr>\n",
       "      <th>3</th>\n",
       "      <td>80000</td>\n",
       "    </tr>\n",
       "    <tr>\n",
       "      <th>4</th>\n",
       "      <td>45000</td>\n",
       "    </tr>\n",
       "  </tbody>\n",
       "</table>\n",
       "</div>"
      ],
      "text/plain": [
       "   salary\n",
       "0   50000\n",
       "1   60000\n",
       "2   70000\n",
       "3   80000\n",
       "4   45000"
      ]
     },
     "execution_count": 11,
     "metadata": {},
     "output_type": "execute_result"
    }
   ],
   "source": [
    "employees.iloc[:, [3]] # Returns all rows from the 4th column - the extra [] is only needed on columns"
   ]
  },
  {
   "cell_type": "code",
   "execution_count": 13,
   "id": "c851fc8e",
   "metadata": {},
   "outputs": [
    {
     "data": {
      "text/html": [
       "<div>\n",
       "<style scoped>\n",
       "    .dataframe tbody tr th:only-of-type {\n",
       "        vertical-align: middle;\n",
       "    }\n",
       "\n",
       "    .dataframe tbody tr th {\n",
       "        vertical-align: top;\n",
       "    }\n",
       "\n",
       "    .dataframe thead th {\n",
       "        text-align: right;\n",
       "    }\n",
       "</style>\n",
       "<table border=\"1\" class=\"dataframe\">\n",
       "  <thead>\n",
       "    <tr style=\"text-align: right;\">\n",
       "      <th></th>\n",
       "      <th>id</th>\n",
       "      <th>age</th>\n",
       "    </tr>\n",
       "  </thead>\n",
       "  <tbody>\n",
       "    <tr>\n",
       "      <th>0</th>\n",
       "      <td>1</td>\n",
       "      <td>25</td>\n",
       "    </tr>\n",
       "    <tr>\n",
       "      <th>1</th>\n",
       "      <td>2</td>\n",
       "      <td>30</td>\n",
       "    </tr>\n",
       "    <tr>\n",
       "      <th>2</th>\n",
       "      <td>3</td>\n",
       "      <td>35</td>\n",
       "    </tr>\n",
       "    <tr>\n",
       "      <th>3</th>\n",
       "      <td>4</td>\n",
       "      <td>40</td>\n",
       "    </tr>\n",
       "    <tr>\n",
       "      <th>4</th>\n",
       "      <td>5</td>\n",
       "      <td>22</td>\n",
       "    </tr>\n",
       "  </tbody>\n",
       "</table>\n",
       "</div>"
      ],
      "text/plain": [
       "   id  age\n",
       "0   1   25\n",
       "1   2   30\n",
       "2   3   35\n",
       "3   4   40\n",
       "4   5   22"
      ]
     },
     "execution_count": 13,
     "metadata": {},
     "output_type": "execute_result"
    }
   ],
   "source": [
    "employees.iloc[:, [0, 2]] # Returns all rows for columns 1 and 3"
   ]
  },
  {
   "cell_type": "code",
   "execution_count": 12,
   "id": "e0e591ca",
   "metadata": {},
   "outputs": [
    {
     "data": {
      "text/plain": [
       "80000"
      ]
     },
     "execution_count": 12,
     "metadata": {},
     "output_type": "execute_result"
    }
   ],
   "source": [
    "employees.iloc[3,3] # Returns the value at the 4th row and 4th column"
   ]
  },
  {
   "cell_type": "code",
   "execution_count": 14,
   "id": "f78dedff",
   "metadata": {},
   "outputs": [
    {
     "data": {
      "text/plain": [
       "90000"
      ]
     },
     "execution_count": 14,
     "metadata": {},
     "output_type": "execute_result"
    }
   ],
   "source": [
    "employees.iloc[3,3] = 90000 # Change the value at the 4th row and 4th column to 90000\n",
    "employees.iloc[3,3] # Check the value has changed"
   ]
  },
  {
   "cell_type": "markdown",
   "id": "333f9784",
   "metadata": {},
   "source": [
    "### loc: label-based indexing\n",
    "`df.loc[row_label, column_label]`\n",
    "- row_label: Row index labels (can be values or conditions)\n",
    "- column_label: Column names\n",
    "- if only 1 value passed, assumes it's a row\n",
    "\n",
    "| Usage                                      | Example                          |\n",
    "|--------------------------------------------|----------------------------------|\n",
    "| Select a single row                        | `employees.loc[2]`               |\n",
    "| Select multiple rows                       | `employees.loc[[0, 2]]`          |\n",
    "| Select a row range                         | `employees.loc[1:3]`             |\n",
    "| Select a single column                     | `employees.loc[:, 'ColumnName']` |\n",
    "| Select multiple columns                    | `employees.loc[:, ['Col1', 'Col2']]` |\n",
    "| Select a row & column                      | `employees.loc[0, 'ColumnName']` |\n",
    "| Select row & column ranges                 | `employees.loc[1:3, 'Col1':'Col2']` |\n",
    "| Select the last row                        | `employees.loc[df.index[-1]]`    |\n",
    "| Select last 3 rows & last 2 columns        | `employees.loc[df.index[-3:], df.columns[-2:]]` |\n",
    "| Assign a value                             | `employees.loc[0, 'ColumnName'] = \"Updated\"` |"
   ]
  },
  {
   "cell_type": "code",
   "execution_count": 15,
   "id": "9c9f7ecd",
   "metadata": {},
   "outputs": [
    {
     "data": {
      "text/html": [
       "<div>\n",
       "<style scoped>\n",
       "    .dataframe tbody tr th:only-of-type {\n",
       "        vertical-align: middle;\n",
       "    }\n",
       "\n",
       "    .dataframe tbody tr th {\n",
       "        vertical-align: top;\n",
       "    }\n",
       "\n",
       "    .dataframe thead th {\n",
       "        text-align: right;\n",
       "    }\n",
       "</style>\n",
       "<table border=\"1\" class=\"dataframe\">\n",
       "  <thead>\n",
       "    <tr style=\"text-align: right;\">\n",
       "      <th></th>\n",
       "      <th>id</th>\n",
       "      <th>name</th>\n",
       "    </tr>\n",
       "  </thead>\n",
       "  <tbody>\n",
       "    <tr>\n",
       "      <th>0</th>\n",
       "      <td>1</td>\n",
       "      <td>Alice</td>\n",
       "    </tr>\n",
       "    <tr>\n",
       "      <th>1</th>\n",
       "      <td>2</td>\n",
       "      <td>Bob</td>\n",
       "    </tr>\n",
       "    <tr>\n",
       "      <th>2</th>\n",
       "      <td>3</td>\n",
       "      <td>Charlie</td>\n",
       "    </tr>\n",
       "    <tr>\n",
       "      <th>3</th>\n",
       "      <td>4</td>\n",
       "      <td>David</td>\n",
       "    </tr>\n",
       "    <tr>\n",
       "      <th>4</th>\n",
       "      <td>5</td>\n",
       "      <td>Eve</td>\n",
       "    </tr>\n",
       "  </tbody>\n",
       "</table>\n",
       "</div>"
      ],
      "text/plain": [
       "   id     name\n",
       "0   1    Alice\n",
       "1   2      Bob\n",
       "2   3  Charlie\n",
       "3   4    David\n",
       "4   5      Eve"
      ]
     },
     "execution_count": 15,
     "metadata": {},
     "output_type": "execute_result"
    }
   ],
   "source": [
    "employees.loc[:,['id','name']] # return all rows from employee df for id and name columns"
   ]
  },
  {
   "cell_type": "code",
   "execution_count": 16,
   "id": "d177e4a7",
   "metadata": {},
   "outputs": [
    {
     "data": {
      "text/html": [
       "<div>\n",
       "<style scoped>\n",
       "    .dataframe tbody tr th:only-of-type {\n",
       "        vertical-align: middle;\n",
       "    }\n",
       "\n",
       "    .dataframe tbody tr th {\n",
       "        vertical-align: top;\n",
       "    }\n",
       "\n",
       "    .dataframe thead th {\n",
       "        text-align: right;\n",
       "    }\n",
       "</style>\n",
       "<table border=\"1\" class=\"dataframe\">\n",
       "  <thead>\n",
       "    <tr style=\"text-align: right;\">\n",
       "      <th></th>\n",
       "      <th>id</th>\n",
       "      <th>name</th>\n",
       "      <th>age</th>\n",
       "      <th>salary</th>\n",
       "      <th>department</th>\n",
       "    </tr>\n",
       "  </thead>\n",
       "  <tbody>\n",
       "    <tr>\n",
       "      <th>1</th>\n",
       "      <td>2</td>\n",
       "      <td>Bob</td>\n",
       "      <td>30</td>\n",
       "      <td>60000</td>\n",
       "      <td>IT</td>\n",
       "    </tr>\n",
       "    <tr>\n",
       "      <th>3</th>\n",
       "      <td>4</td>\n",
       "      <td>David</td>\n",
       "      <td>40</td>\n",
       "      <td>90000</td>\n",
       "      <td>IT</td>\n",
       "    </tr>\n",
       "  </tbody>\n",
       "</table>\n",
       "</div>"
      ],
      "text/plain": [
       "   id   name  age  salary department\n",
       "1   2    Bob   30   60000         IT\n",
       "3   4  David   40   90000         IT"
      ]
     },
     "execution_count": 16,
     "metadata": {},
     "output_type": "execute_result"
    }
   ],
   "source": [
    "employees.loc[employees['department'] == 'IT', :] # return all columns for employees in the IT department"
   ]
  },
  {
   "cell_type": "code",
   "execution_count": 17,
   "id": "efed5b2d",
   "metadata": {},
   "outputs": [
    {
     "data": {
      "text/html": [
       "<div>\n",
       "<style scoped>\n",
       "    .dataframe tbody tr th:only-of-type {\n",
       "        vertical-align: middle;\n",
       "    }\n",
       "\n",
       "    .dataframe tbody tr th {\n",
       "        vertical-align: top;\n",
       "    }\n",
       "\n",
       "    .dataframe thead th {\n",
       "        text-align: right;\n",
       "    }\n",
       "</style>\n",
       "<table border=\"1\" class=\"dataframe\">\n",
       "  <thead>\n",
       "    <tr style=\"text-align: right;\">\n",
       "      <th></th>\n",
       "      <th>name</th>\n",
       "    </tr>\n",
       "  </thead>\n",
       "  <tbody>\n",
       "    <tr>\n",
       "      <th>2</th>\n",
       "      <td>Charlie</td>\n",
       "    </tr>\n",
       "    <tr>\n",
       "      <th>3</th>\n",
       "      <td>David</td>\n",
       "    </tr>\n",
       "  </tbody>\n",
       "</table>\n",
       "</div>"
      ],
      "text/plain": [
       "      name\n",
       "2  Charlie\n",
       "3    David"
      ]
     },
     "execution_count": 17,
     "metadata": {},
     "output_type": "execute_result"
    }
   ],
   "source": [
    "employees.loc[employees['salary'] > 60000, ['name']] # return the names of each employee who has a salary more than 60000"
   ]
  },
  {
   "cell_type": "code",
   "execution_count": 18,
   "id": "f23639c1",
   "metadata": {},
   "outputs": [
    {
     "data": {
      "text/html": [
       "<div>\n",
       "<style scoped>\n",
       "    .dataframe tbody tr th:only-of-type {\n",
       "        vertical-align: middle;\n",
       "    }\n",
       "\n",
       "    .dataframe tbody tr th {\n",
       "        vertical-align: top;\n",
       "    }\n",
       "\n",
       "    .dataframe thead th {\n",
       "        text-align: right;\n",
       "    }\n",
       "</style>\n",
       "<table border=\"1\" class=\"dataframe\">\n",
       "  <thead>\n",
       "    <tr style=\"text-align: right;\">\n",
       "      <th></th>\n",
       "      <th>name</th>\n",
       "    </tr>\n",
       "  </thead>\n",
       "  <tbody>\n",
       "    <tr>\n",
       "      <th>3</th>\n",
       "      <td>David</td>\n",
       "    </tr>\n",
       "  </tbody>\n",
       "</table>\n",
       "</div>"
      ],
      "text/plain": [
       "    name\n",
       "3  David"
      ]
     },
     "execution_count": 18,
     "metadata": {},
     "output_type": "execute_result"
    }
   ],
   "source": [
    "employees.loc[(employees['department'] == 'IT') & (employees['salary'] > 60000), ['name']] \n",
    "# return IT employee names who also have a salary more than 60000"
   ]
  },
  {
   "cell_type": "code",
   "execution_count": 19,
   "id": "4bf9f7a0",
   "metadata": {},
   "outputs": [
    {
     "data": {
      "text/html": [
       "<div>\n",
       "<style scoped>\n",
       "    .dataframe tbody tr th:only-of-type {\n",
       "        vertical-align: middle;\n",
       "    }\n",
       "\n",
       "    .dataframe tbody tr th {\n",
       "        vertical-align: top;\n",
       "    }\n",
       "\n",
       "    .dataframe thead th {\n",
       "        text-align: right;\n",
       "    }\n",
       "</style>\n",
       "<table border=\"1\" class=\"dataframe\">\n",
       "  <thead>\n",
       "    <tr style=\"text-align: right;\">\n",
       "      <th></th>\n",
       "      <th>name</th>\n",
       "    </tr>\n",
       "  </thead>\n",
       "  <tbody>\n",
       "    <tr>\n",
       "      <th>0</th>\n",
       "      <td>Alice</td>\n",
       "    </tr>\n",
       "    <tr>\n",
       "      <th>1</th>\n",
       "      <td>Bob</td>\n",
       "    </tr>\n",
       "    <tr>\n",
       "      <th>3</th>\n",
       "      <td>David</td>\n",
       "    </tr>\n",
       "    <tr>\n",
       "      <th>4</th>\n",
       "      <td>Eve</td>\n",
       "    </tr>\n",
       "  </tbody>\n",
       "</table>\n",
       "</div>"
      ],
      "text/plain": [
       "    name\n",
       "0  Alice\n",
       "1    Bob\n",
       "3  David\n",
       "4    Eve"
      ]
     },
     "execution_count": 19,
     "metadata": {},
     "output_type": "execute_result"
    }
   ],
   "source": [
    "employees.loc[(employees['department'] == 'IT') | (employees['department'] == 'HR'), ['name']] \n",
    "# return any employee name from IT or HR department"
   ]
  },
  {
   "cell_type": "markdown",
   "id": "0e1d925b",
   "metadata": {},
   "source": [
    "___"
   ]
  },
  {
   "cell_type": "markdown",
   "id": "f9d937ab",
   "metadata": {},
   "source": [
    "## Joining DataFrames\n",
    "| Method    | Primary Use Case | Default Behavior | Supports Index-Based Merge? | Supports Column-Based Merge? | Allows Multiple DataFrames? |\n",
    "|-----------|-----------------|------------------|-----------------------------|-----------------------------|----------------------------|\n",
    "| `merge()` | Merging DataFrames on one or more key columns | Joins on common column(s), default is `inner` join | ❌ No | ✅ Yes (`on=`) | ❌ No (only two DataFrames at a time) |\n",
    "| `join()` | Merging on index values | Left join by default, matches on index | ✅ Yes (default behavior) | ❌ No (must set index first) | ❌ No (only two DataFrames at a time) |\n",
    "| `concat()` | Stacking DataFrames vertically (`axis=0`) or horizontally (`axis=1`) | Preserves column/index names, default is row-wise (`axis=0`) | ✅ Yes (`axis=1` for columns) | ✅ Yes (`axis=0` for rows) | ✅ Yes (multiple DataFrames) |\n"
   ]
  },
  {
   "cell_type": "markdown",
   "id": "8ff4244d",
   "metadata": {},
   "source": [
    "### Merge\n",
    "- .merge() allows flexible joins (inner, left, right, outer) between two dataframes based on column keys"
   ]
  },
  {
   "cell_type": "code",
   "execution_count": 26,
   "id": "6e8d0ba1",
   "metadata": {},
   "outputs": [
    {
     "data": {
      "text/html": [
       "<div>\n",
       "<style scoped>\n",
       "    .dataframe tbody tr th:only-of-type {\n",
       "        vertical-align: middle;\n",
       "    }\n",
       "\n",
       "    .dataframe tbody tr th {\n",
       "        vertical-align: top;\n",
       "    }\n",
       "\n",
       "    .dataframe thead th {\n",
       "        text-align: right;\n",
       "    }\n",
       "</style>\n",
       "<table border=\"1\" class=\"dataframe\">\n",
       "  <thead>\n",
       "    <tr style=\"text-align: right;\">\n",
       "      <th></th>\n",
       "      <th>id</th>\n",
       "      <th>name</th>\n",
       "      <th>age</th>\n",
       "      <th>salary</th>\n",
       "      <th>department</th>\n",
       "      <th>years_of_experience</th>\n",
       "    </tr>\n",
       "  </thead>\n",
       "  <tbody>\n",
       "    <tr>\n",
       "      <th>0</th>\n",
       "      <td>1</td>\n",
       "      <td>Alice</td>\n",
       "      <td>25</td>\n",
       "      <td>50000</td>\n",
       "      <td>HR</td>\n",
       "      <td>2</td>\n",
       "    </tr>\n",
       "    <tr>\n",
       "      <th>1</th>\n",
       "      <td>2</td>\n",
       "      <td>Bob</td>\n",
       "      <td>30</td>\n",
       "      <td>60000</td>\n",
       "      <td>IT</td>\n",
       "      <td>5</td>\n",
       "    </tr>\n",
       "    <tr>\n",
       "      <th>2</th>\n",
       "      <td>3</td>\n",
       "      <td>Charlie</td>\n",
       "      <td>35</td>\n",
       "      <td>70000</td>\n",
       "      <td>Finance</td>\n",
       "      <td>7</td>\n",
       "    </tr>\n",
       "    <tr>\n",
       "      <th>3</th>\n",
       "      <td>4</td>\n",
       "      <td>David</td>\n",
       "      <td>40</td>\n",
       "      <td>90000</td>\n",
       "      <td>IT</td>\n",
       "      <td>10</td>\n",
       "    </tr>\n",
       "    <tr>\n",
       "      <th>4</th>\n",
       "      <td>5</td>\n",
       "      <td>Eve</td>\n",
       "      <td>22</td>\n",
       "      <td>45000</td>\n",
       "      <td>HR</td>\n",
       "      <td>1</td>\n",
       "    </tr>\n",
       "  </tbody>\n",
       "</table>\n",
       "</div>"
      ],
      "text/plain": [
       "   id     name  age  salary department  years_of_experience\n",
       "0   1    Alice   25   50000         HR                    2\n",
       "1   2      Bob   30   60000         IT                    5\n",
       "2   3  Charlie   35   70000    Finance                    7\n",
       "3   4    David   40   90000         IT                   10\n",
       "4   5      Eve   22   45000         HR                    1"
      ]
     },
     "metadata": {},
     "output_type": "display_data"
    }
   ],
   "source": [
    "merged_df = employees.merge(experience, on='id', how='inner')\n",
    "display(merged_df)"
   ]
  },
  {
   "cell_type": "markdown",
   "id": "3e7aff63",
   "metadata": {},
   "source": [
    "### Join\n",
    "- .join() is index-based, meaning it merges on the row index, not column values.\n",
    "- Equivalent to .merge() but quicker since it joins on indexes"
   ]
  },
  {
   "cell_type": "code",
   "execution_count": 20,
   "id": "a4e34d80",
   "metadata": {},
   "outputs": [
    {
     "data": {
      "text/html": [
       "<div>\n",
       "<style scoped>\n",
       "    .dataframe tbody tr th:only-of-type {\n",
       "        vertical-align: middle;\n",
       "    }\n",
       "\n",
       "    .dataframe tbody tr th {\n",
       "        vertical-align: top;\n",
       "    }\n",
       "\n",
       "    .dataframe thead th {\n",
       "        text-align: right;\n",
       "    }\n",
       "</style>\n",
       "<table border=\"1\" class=\"dataframe\">\n",
       "  <thead>\n",
       "    <tr style=\"text-align: right;\">\n",
       "      <th></th>\n",
       "      <th>id</th>\n",
       "      <th>name</th>\n",
       "      <th>age</th>\n",
       "      <th>salary</th>\n",
       "      <th>department</th>\n",
       "      <th>id_exp</th>\n",
       "      <th>years_of_experience</th>\n",
       "    </tr>\n",
       "  </thead>\n",
       "  <tbody>\n",
       "    <tr>\n",
       "      <th>0</th>\n",
       "      <td>1</td>\n",
       "      <td>Alice</td>\n",
       "      <td>25</td>\n",
       "      <td>50000</td>\n",
       "      <td>HR</td>\n",
       "      <td>1</td>\n",
       "      <td>2</td>\n",
       "    </tr>\n",
       "    <tr>\n",
       "      <th>1</th>\n",
       "      <td>2</td>\n",
       "      <td>Bob</td>\n",
       "      <td>30</td>\n",
       "      <td>60000</td>\n",
       "      <td>IT</td>\n",
       "      <td>2</td>\n",
       "      <td>5</td>\n",
       "    </tr>\n",
       "    <tr>\n",
       "      <th>2</th>\n",
       "      <td>3</td>\n",
       "      <td>Charlie</td>\n",
       "      <td>35</td>\n",
       "      <td>70000</td>\n",
       "      <td>Finance</td>\n",
       "      <td>3</td>\n",
       "      <td>7</td>\n",
       "    </tr>\n",
       "    <tr>\n",
       "      <th>3</th>\n",
       "      <td>4</td>\n",
       "      <td>David</td>\n",
       "      <td>40</td>\n",
       "      <td>90000</td>\n",
       "      <td>IT</td>\n",
       "      <td>4</td>\n",
       "      <td>10</td>\n",
       "    </tr>\n",
       "    <tr>\n",
       "      <th>4</th>\n",
       "      <td>5</td>\n",
       "      <td>Eve</td>\n",
       "      <td>22</td>\n",
       "      <td>45000</td>\n",
       "      <td>HR</td>\n",
       "      <td>5</td>\n",
       "      <td>1</td>\n",
       "    </tr>\n",
       "  </tbody>\n",
       "</table>\n",
       "</div>"
      ],
      "text/plain": [
       "   id     name  age  salary department  id_exp  years_of_experience\n",
       "0   1    Alice   25   50000         HR       1                    2\n",
       "1   2      Bob   30   60000         IT       2                    5\n",
       "2   3  Charlie   35   70000    Finance       3                    7\n",
       "3   4    David   40   90000         IT       4                   10\n",
       "4   5      Eve   22   45000         HR       5                    1"
      ]
     },
     "metadata": {},
     "output_type": "display_data"
    }
   ],
   "source": [
    "joined_df = employees.join(experience, rsuffix='_exp') #Any repeat columns from the right table will be suffixed with _emp\n",
    "display(joined_df)\n",
    "# This only works because the index of both dataframes is the same"
   ]
  },
  {
   "cell_type": "markdown",
   "id": "9051b249",
   "metadata": {},
   "source": [
    "### Concat\n",
    "- Used for combining DataFrames vertically (rows) or horizontally (columns).\n",
    "- Works with multiple DataFrames.\n",
    "- Default is row-wise (axis=0), but can also work column-wise (axis=1)."
   ]
  },
  {
   "cell_type": "code",
   "execution_count": 21,
   "id": "0dd8e219",
   "metadata": {},
   "outputs": [
    {
     "data": {
      "text/html": [
       "<div>\n",
       "<style scoped>\n",
       "    .dataframe tbody tr th:only-of-type {\n",
       "        vertical-align: middle;\n",
       "    }\n",
       "\n",
       "    .dataframe tbody tr th {\n",
       "        vertical-align: top;\n",
       "    }\n",
       "\n",
       "    .dataframe thead th {\n",
       "        text-align: right;\n",
       "    }\n",
       "</style>\n",
       "<table border=\"1\" class=\"dataframe\">\n",
       "  <thead>\n",
       "    <tr style=\"text-align: right;\">\n",
       "      <th></th>\n",
       "      <th>id</th>\n",
       "      <th>name</th>\n",
       "      <th>age</th>\n",
       "      <th>salary</th>\n",
       "      <th>department</th>\n",
       "      <th>id</th>\n",
       "      <th>years_of_experience</th>\n",
       "    </tr>\n",
       "  </thead>\n",
       "  <tbody>\n",
       "    <tr>\n",
       "      <th>0</th>\n",
       "      <td>1</td>\n",
       "      <td>Alice</td>\n",
       "      <td>25</td>\n",
       "      <td>50000</td>\n",
       "      <td>HR</td>\n",
       "      <td>1</td>\n",
       "      <td>2</td>\n",
       "    </tr>\n",
       "    <tr>\n",
       "      <th>1</th>\n",
       "      <td>2</td>\n",
       "      <td>Bob</td>\n",
       "      <td>30</td>\n",
       "      <td>60000</td>\n",
       "      <td>IT</td>\n",
       "      <td>2</td>\n",
       "      <td>5</td>\n",
       "    </tr>\n",
       "    <tr>\n",
       "      <th>2</th>\n",
       "      <td>3</td>\n",
       "      <td>Charlie</td>\n",
       "      <td>35</td>\n",
       "      <td>70000</td>\n",
       "      <td>Finance</td>\n",
       "      <td>3</td>\n",
       "      <td>7</td>\n",
       "    </tr>\n",
       "    <tr>\n",
       "      <th>3</th>\n",
       "      <td>4</td>\n",
       "      <td>David</td>\n",
       "      <td>40</td>\n",
       "      <td>90000</td>\n",
       "      <td>IT</td>\n",
       "      <td>4</td>\n",
       "      <td>10</td>\n",
       "    </tr>\n",
       "    <tr>\n",
       "      <th>4</th>\n",
       "      <td>5</td>\n",
       "      <td>Eve</td>\n",
       "      <td>22</td>\n",
       "      <td>45000</td>\n",
       "      <td>HR</td>\n",
       "      <td>5</td>\n",
       "      <td>1</td>\n",
       "    </tr>\n",
       "  </tbody>\n",
       "</table>\n",
       "</div>"
      ],
      "text/plain": [
       "   id     name  age  salary department  id  years_of_experience\n",
       "0   1    Alice   25   50000         HR   1                    2\n",
       "1   2      Bob   30   60000         IT   2                    5\n",
       "2   3  Charlie   35   70000    Finance   3                    7\n",
       "3   4    David   40   90000         IT   4                   10\n",
       "4   5      Eve   22   45000         HR   5                    1"
      ]
     },
     "metadata": {},
     "output_type": "display_data"
    }
   ],
   "source": [
    "concat_df = pd.concat([employees, experience], axis=1)\n",
    "# This will concatenate the two dataframes horizontally based on their index just like .join\n",
    "display(concat_df)"
   ]
  },
  {
   "cell_type": "code",
   "execution_count": 22,
   "id": "87a3d068",
   "metadata": {},
   "outputs": [
    {
     "data": {
      "text/html": [
       "<div>\n",
       "<style scoped>\n",
       "    .dataframe tbody tr th:only-of-type {\n",
       "        vertical-align: middle;\n",
       "    }\n",
       "\n",
       "    .dataframe tbody tr th {\n",
       "        vertical-align: top;\n",
       "    }\n",
       "\n",
       "    .dataframe thead th {\n",
       "        text-align: right;\n",
       "    }\n",
       "</style>\n",
       "<table border=\"1\" class=\"dataframe\">\n",
       "  <thead>\n",
       "    <tr style=\"text-align: right;\">\n",
       "      <th></th>\n",
       "      <th>id</th>\n",
       "      <th>name</th>\n",
       "      <th>age</th>\n",
       "      <th>salary</th>\n",
       "      <th>department</th>\n",
       "    </tr>\n",
       "  </thead>\n",
       "  <tbody>\n",
       "    <tr>\n",
       "      <th>0</th>\n",
       "      <td>1</td>\n",
       "      <td>Alice</td>\n",
       "      <td>25</td>\n",
       "      <td>50000</td>\n",
       "      <td>HR</td>\n",
       "    </tr>\n",
       "    <tr>\n",
       "      <th>1</th>\n",
       "      <td>2</td>\n",
       "      <td>Bob</td>\n",
       "      <td>30</td>\n",
       "      <td>60000</td>\n",
       "      <td>IT</td>\n",
       "    </tr>\n",
       "    <tr>\n",
       "      <th>2</th>\n",
       "      <td>3</td>\n",
       "      <td>Charlie</td>\n",
       "      <td>35</td>\n",
       "      <td>70000</td>\n",
       "      <td>Finance</td>\n",
       "    </tr>\n",
       "    <tr>\n",
       "      <th>3</th>\n",
       "      <td>4</td>\n",
       "      <td>David</td>\n",
       "      <td>40</td>\n",
       "      <td>90000</td>\n",
       "      <td>IT</td>\n",
       "    </tr>\n",
       "    <tr>\n",
       "      <th>4</th>\n",
       "      <td>5</td>\n",
       "      <td>Eve</td>\n",
       "      <td>22</td>\n",
       "      <td>45000</td>\n",
       "      <td>HR</td>\n",
       "    </tr>\n",
       "    <tr>\n",
       "      <th>0</th>\n",
       "      <td>1</td>\n",
       "      <td>Alice</td>\n",
       "      <td>25</td>\n",
       "      <td>50000</td>\n",
       "      <td>HR</td>\n",
       "    </tr>\n",
       "    <tr>\n",
       "      <th>1</th>\n",
       "      <td>2</td>\n",
       "      <td>Bob</td>\n",
       "      <td>30</td>\n",
       "      <td>60000</td>\n",
       "      <td>IT</td>\n",
       "    </tr>\n",
       "    <tr>\n",
       "      <th>2</th>\n",
       "      <td>3</td>\n",
       "      <td>Charlie</td>\n",
       "      <td>35</td>\n",
       "      <td>70000</td>\n",
       "      <td>Finance</td>\n",
       "    </tr>\n",
       "    <tr>\n",
       "      <th>3</th>\n",
       "      <td>4</td>\n",
       "      <td>David</td>\n",
       "      <td>40</td>\n",
       "      <td>90000</td>\n",
       "      <td>IT</td>\n",
       "    </tr>\n",
       "    <tr>\n",
       "      <th>4</th>\n",
       "      <td>5</td>\n",
       "      <td>Eve</td>\n",
       "      <td>22</td>\n",
       "      <td>45000</td>\n",
       "      <td>HR</td>\n",
       "    </tr>\n",
       "  </tbody>\n",
       "</table>\n",
       "</div>"
      ],
      "text/plain": [
       "   id     name  age  salary department\n",
       "0   1    Alice   25   50000         HR\n",
       "1   2      Bob   30   60000         IT\n",
       "2   3  Charlie   35   70000    Finance\n",
       "3   4    David   40   90000         IT\n",
       "4   5      Eve   22   45000         HR\n",
       "0   1    Alice   25   50000         HR\n",
       "1   2      Bob   30   60000         IT\n",
       "2   3  Charlie   35   70000    Finance\n",
       "3   4    David   40   90000         IT\n",
       "4   5      Eve   22   45000         HR"
      ]
     },
     "metadata": {},
     "output_type": "display_data"
    }
   ],
   "source": [
    "concat_df2 = pd.concat([employees, employees])\n",
    "# This will concatenate the two dataframes vertically, stacking them on top of each other\n",
    "display(concat_df2)"
   ]
  },
  {
   "cell_type": "code",
   "execution_count": 25,
   "id": "6c8689ed",
   "metadata": {},
   "outputs": [
    {
     "data": {
      "text/html": [
       "<div>\n",
       "<style scoped>\n",
       "    .dataframe tbody tr th:only-of-type {\n",
       "        vertical-align: middle;\n",
       "    }\n",
       "\n",
       "    .dataframe tbody tr th {\n",
       "        vertical-align: top;\n",
       "    }\n",
       "\n",
       "    .dataframe thead th {\n",
       "        text-align: right;\n",
       "    }\n",
       "</style>\n",
       "<table border=\"1\" class=\"dataframe\">\n",
       "  <thead>\n",
       "    <tr style=\"text-align: right;\">\n",
       "      <th></th>\n",
       "      <th>id</th>\n",
       "      <th>name</th>\n",
       "      <th>age</th>\n",
       "      <th>salary</th>\n",
       "      <th>department</th>\n",
       "      <th>years_of_experience</th>\n",
       "    </tr>\n",
       "  </thead>\n",
       "  <tbody>\n",
       "    <tr>\n",
       "      <th>0</th>\n",
       "      <td>1</td>\n",
       "      <td>Alice</td>\n",
       "      <td>25.0</td>\n",
       "      <td>50000.0</td>\n",
       "      <td>HR</td>\n",
       "      <td>NaN</td>\n",
       "    </tr>\n",
       "    <tr>\n",
       "      <th>1</th>\n",
       "      <td>2</td>\n",
       "      <td>Bob</td>\n",
       "      <td>30.0</td>\n",
       "      <td>60000.0</td>\n",
       "      <td>IT</td>\n",
       "      <td>NaN</td>\n",
       "    </tr>\n",
       "    <tr>\n",
       "      <th>2</th>\n",
       "      <td>3</td>\n",
       "      <td>Charlie</td>\n",
       "      <td>35.0</td>\n",
       "      <td>70000.0</td>\n",
       "      <td>Finance</td>\n",
       "      <td>NaN</td>\n",
       "    </tr>\n",
       "    <tr>\n",
       "      <th>3</th>\n",
       "      <td>4</td>\n",
       "      <td>David</td>\n",
       "      <td>40.0</td>\n",
       "      <td>90000.0</td>\n",
       "      <td>IT</td>\n",
       "      <td>NaN</td>\n",
       "    </tr>\n",
       "    <tr>\n",
       "      <th>4</th>\n",
       "      <td>5</td>\n",
       "      <td>Eve</td>\n",
       "      <td>22.0</td>\n",
       "      <td>45000.0</td>\n",
       "      <td>HR</td>\n",
       "      <td>NaN</td>\n",
       "    </tr>\n",
       "    <tr>\n",
       "      <th>0</th>\n",
       "      <td>1</td>\n",
       "      <td>NaN</td>\n",
       "      <td>NaN</td>\n",
       "      <td>NaN</td>\n",
       "      <td>NaN</td>\n",
       "      <td>2.0</td>\n",
       "    </tr>\n",
       "    <tr>\n",
       "      <th>1</th>\n",
       "      <td>2</td>\n",
       "      <td>NaN</td>\n",
       "      <td>NaN</td>\n",
       "      <td>NaN</td>\n",
       "      <td>NaN</td>\n",
       "      <td>5.0</td>\n",
       "    </tr>\n",
       "    <tr>\n",
       "      <th>2</th>\n",
       "      <td>3</td>\n",
       "      <td>NaN</td>\n",
       "      <td>NaN</td>\n",
       "      <td>NaN</td>\n",
       "      <td>NaN</td>\n",
       "      <td>7.0</td>\n",
       "    </tr>\n",
       "    <tr>\n",
       "      <th>3</th>\n",
       "      <td>4</td>\n",
       "      <td>NaN</td>\n",
       "      <td>NaN</td>\n",
       "      <td>NaN</td>\n",
       "      <td>NaN</td>\n",
       "      <td>10.0</td>\n",
       "    </tr>\n",
       "    <tr>\n",
       "      <th>4</th>\n",
       "      <td>5</td>\n",
       "      <td>NaN</td>\n",
       "      <td>NaN</td>\n",
       "      <td>NaN</td>\n",
       "      <td>NaN</td>\n",
       "      <td>1.0</td>\n",
       "    </tr>\n",
       "  </tbody>\n",
       "</table>\n",
       "</div>"
      ],
      "text/plain": [
       "   id     name   age   salary department  years_of_experience\n",
       "0   1    Alice  25.0  50000.0         HR                  NaN\n",
       "1   2      Bob  30.0  60000.0         IT                  NaN\n",
       "2   3  Charlie  35.0  70000.0    Finance                  NaN\n",
       "3   4    David  40.0  90000.0         IT                  NaN\n",
       "4   5      Eve  22.0  45000.0         HR                  NaN\n",
       "0   1      NaN   NaN      NaN        NaN                  2.0\n",
       "1   2      NaN   NaN      NaN        NaN                  5.0\n",
       "2   3      NaN   NaN      NaN        NaN                  7.0\n",
       "3   4      NaN   NaN      NaN        NaN                 10.0\n",
       "4   5      NaN   NaN      NaN        NaN                  1.0"
      ]
     },
     "metadata": {},
     "output_type": "display_data"
    }
   ],
   "source": [
    "concat_df3 = pd.concat([employees, experience])\n",
    "# When trying to join two dataframes with different columns, the result will have NaN values for missing columns\n",
    "# This is similar to a SQL outer join\n",
    "display(concat_df3)"
   ]
  },
  {
   "cell_type": "markdown",
   "id": "90f7fcb8",
   "metadata": {},
   "source": [
    "___"
   ]
  },
  {
   "cell_type": "markdown",
   "id": "06f421e3",
   "metadata": {},
   "source": [
    "## Organizing Results"
   ]
  },
  {
   "cell_type": "markdown",
   "id": "366f6a56",
   "metadata": {},
   "source": [
    "### Groupby"
   ]
  },
  {
   "cell_type": "code",
   "execution_count": 89,
   "id": "78a423de",
   "metadata": {},
   "outputs": [
    {
     "data": {
      "text/html": [
       "<div>\n",
       "<style scoped>\n",
       "    .dataframe tbody tr th:only-of-type {\n",
       "        vertical-align: middle;\n",
       "    }\n",
       "\n",
       "    .dataframe tbody tr th {\n",
       "        vertical-align: top;\n",
       "    }\n",
       "\n",
       "    .dataframe thead th {\n",
       "        text-align: right;\n",
       "    }\n",
       "</style>\n",
       "<table border=\"1\" class=\"dataframe\">\n",
       "  <thead>\n",
       "    <tr style=\"text-align: right;\">\n",
       "      <th></th>\n",
       "      <th>salary</th>\n",
       "    </tr>\n",
       "    <tr>\n",
       "      <th>department</th>\n",
       "      <th></th>\n",
       "    </tr>\n",
       "  </thead>\n",
       "  <tbody>\n",
       "    <tr>\n",
       "      <th>Finance</th>\n",
       "      <td>70000.0</td>\n",
       "    </tr>\n",
       "    <tr>\n",
       "      <th>HR</th>\n",
       "      <td>47500.0</td>\n",
       "    </tr>\n",
       "    <tr>\n",
       "      <th>IT</th>\n",
       "      <td>70000.0</td>\n",
       "    </tr>\n",
       "  </tbody>\n",
       "</table>\n",
       "</div>"
      ],
      "text/plain": [
       "             salary\n",
       "department         \n",
       "Finance     70000.0\n",
       "HR          47500.0\n",
       "IT          70000.0"
      ]
     },
     "execution_count": 89,
     "metadata": {},
     "output_type": "execute_result"
    }
   ],
   "source": [
    "employees.groupby('department')[['salary']].mean()"
   ]
  },
  {
   "cell_type": "markdown",
   "id": "daff2918",
   "metadata": {},
   "source": [
    "### Transform"
   ]
  },
  {
   "cell_type": "code",
   "execution_count": 31,
   "id": "9efd8513",
   "metadata": {},
   "outputs": [
    {
     "name": "stdout",
     "output_type": "stream",
     "text": [
      "      name department  salary\n",
      "0    Alice         HR   50000\n",
      "2  Charlie    Finance   70000\n",
      "3    David         IT   90000\n"
     ]
    }
   ],
   "source": [
    "employees['max_salary_in_department'] = employees.groupby('department')['salary'].transform('max')\n",
    "print(employees.loc[employees['salary'] == employees['max_salary_in_department'], ['name', 'department', 'salary']])\n",
    "# This will return the names of employees with the maximum salary in their respective departments"
   ]
  },
  {
   "cell_type": "markdown",
   "id": "7cf20465",
   "metadata": {},
   "source": [
    "### Idxmax"
   ]
  },
  {
   "cell_type": "code",
   "execution_count": 36,
   "id": "df089860",
   "metadata": {},
   "outputs": [
    {
     "name": "stdout",
     "output_type": "stream",
     "text": [
      "      name department  salary\n",
      "2  Charlie    Finance   70000\n",
      "0    Alice         HR   50000\n",
      "3    David         IT   90000\n"
     ]
    }
   ],
   "source": [
    "highest_paid_idx = employees.groupby('department')['salary'].idxmax()\n",
    "highest_paid_employees = employees.loc[highest_paid_idx, ['name', 'department', 'salary']]\n",
    "print(highest_paid_employees)"
   ]
  },
  {
   "cell_type": "markdown",
   "id": "ac1c7b7e",
   "metadata": {},
   "source": [
    "### Sort Values"
   ]
  },
  {
   "cell_type": "code",
   "execution_count": 37,
   "id": "d54d3b1d",
   "metadata": {},
   "outputs": [
    {
     "name": "stdout",
     "output_type": "stream",
     "text": [
      "      name department  salary\n",
      "3    David         IT   90000\n",
      "2  Charlie    Finance   70000\n",
      "0    Alice         HR   50000\n"
     ]
    }
   ],
   "source": [
    "highest_paid_employees.sort_values(by='salary', ascending=False, inplace=True)\n",
    "print(highest_paid_employees)"
   ]
  },
  {
   "cell_type": "markdown",
   "id": "40ef4edd",
   "metadata": {},
   "source": [
    "___"
   ]
  },
  {
   "cell_type": "markdown",
   "id": "0f89c854",
   "metadata": {},
   "source": [
    "## Pivoting and Reshaping"
   ]
  },
  {
   "cell_type": "code",
   "execution_count": 39,
   "id": "ca06e402",
   "metadata": {},
   "outputs": [
    {
     "data": {
      "text/html": [
       "<div>\n",
       "<style scoped>\n",
       "    .dataframe tbody tr th:only-of-type {\n",
       "        vertical-align: middle;\n",
       "    }\n",
       "\n",
       "    .dataframe tbody tr th {\n",
       "        vertical-align: top;\n",
       "    }\n",
       "\n",
       "    .dataframe thead th {\n",
       "        text-align: right;\n",
       "    }\n",
       "</style>\n",
       "<table border=\"1\" class=\"dataframe\">\n",
       "  <thead>\n",
       "    <tr style=\"text-align: right;\">\n",
       "      <th>name</th>\n",
       "      <th>Alice</th>\n",
       "      <th>Bob</th>\n",
       "      <th>Charlie</th>\n",
       "      <th>David</th>\n",
       "      <th>Eve</th>\n",
       "    </tr>\n",
       "    <tr>\n",
       "      <th>date</th>\n",
       "      <th></th>\n",
       "      <th></th>\n",
       "      <th></th>\n",
       "      <th></th>\n",
       "      <th></th>\n",
       "    </tr>\n",
       "  </thead>\n",
       "  <tbody>\n",
       "    <tr>\n",
       "      <th>2025-03-11</th>\n",
       "      <td>09:22:00</td>\n",
       "      <td>08:01:00</td>\n",
       "      <td>08:50:00</td>\n",
       "      <td>08:35:00</td>\n",
       "      <td>09:18:00</td>\n",
       "    </tr>\n",
       "    <tr>\n",
       "      <th>2025-03-12</th>\n",
       "      <td>09:25:00</td>\n",
       "      <td>09:05:00</td>\n",
       "      <td>08:06:00</td>\n",
       "      <td>08:52:00</td>\n",
       "      <td>09:58:00</td>\n",
       "    </tr>\n",
       "    <tr>\n",
       "      <th>2025-03-13</th>\n",
       "      <td>08:22:00</td>\n",
       "      <td>09:04:00</td>\n",
       "      <td>08:02:00</td>\n",
       "      <td>08:34:00</td>\n",
       "      <td>09:32:00</td>\n",
       "    </tr>\n",
       "    <tr>\n",
       "      <th>2025-03-14</th>\n",
       "      <td>09:47:00</td>\n",
       "      <td>08:37:00</td>\n",
       "      <td>09:24:00</td>\n",
       "      <td>08:48:00</td>\n",
       "      <td>08:44:00</td>\n",
       "    </tr>\n",
       "    <tr>\n",
       "      <th>2025-03-17</th>\n",
       "      <td>09:46:00</td>\n",
       "      <td>08:23:00</td>\n",
       "      <td>08:04:00</td>\n",
       "      <td>08:19:00</td>\n",
       "      <td>08:06:00</td>\n",
       "    </tr>\n",
       "    <tr>\n",
       "      <th>2025-03-18</th>\n",
       "      <td>08:25:00</td>\n",
       "      <td>08:31:00</td>\n",
       "      <td>09:01:00</td>\n",
       "      <td>09:13:00</td>\n",
       "      <td>08:28:00</td>\n",
       "    </tr>\n",
       "    <tr>\n",
       "      <th>2025-03-19</th>\n",
       "      <td>09:31:00</td>\n",
       "      <td>09:52:00</td>\n",
       "      <td>09:27:00</td>\n",
       "      <td>08:39:00</td>\n",
       "      <td>09:46:00</td>\n",
       "    </tr>\n",
       "    <tr>\n",
       "      <th>2025-03-20</th>\n",
       "      <td>09:45:00</td>\n",
       "      <td>09:41:00</td>\n",
       "      <td>08:10:00</td>\n",
       "      <td>08:26:00</td>\n",
       "      <td>09:52:00</td>\n",
       "    </tr>\n",
       "    <tr>\n",
       "      <th>2025-03-21</th>\n",
       "      <td>09:16:00</td>\n",
       "      <td>08:38:00</td>\n",
       "      <td>09:08:00</td>\n",
       "      <td>09:42:00</td>\n",
       "      <td>09:19:00</td>\n",
       "    </tr>\n",
       "  </tbody>\n",
       "</table>\n",
       "</div>"
      ],
      "text/plain": [
       "name           Alice       Bob   Charlie     David       Eve\n",
       "date                                                        \n",
       "2025-03-11  09:22:00  08:01:00  08:50:00  08:35:00  09:18:00\n",
       "2025-03-12  09:25:00  09:05:00  08:06:00  08:52:00  09:58:00\n",
       "2025-03-13  08:22:00  09:04:00  08:02:00  08:34:00  09:32:00\n",
       "2025-03-14  09:47:00  08:37:00  09:24:00  08:48:00  08:44:00\n",
       "2025-03-17  09:46:00  08:23:00  08:04:00  08:19:00  08:06:00\n",
       "2025-03-18  08:25:00  08:31:00  09:01:00  09:13:00  08:28:00\n",
       "2025-03-19  09:31:00  09:52:00  09:27:00  08:39:00  09:46:00\n",
       "2025-03-20  09:45:00  09:41:00  08:10:00  08:26:00  09:52:00\n",
       "2025-03-21  09:16:00  08:38:00  09:08:00  09:42:00  09:19:00"
      ]
     },
     "metadata": {},
     "output_type": "display_data"
    }
   ],
   "source": [
    "# Merge attendance with employees to include employee names\n",
    "attendance_with_names = attendance.merge(employees, left_on='employee_id', right_on='id')\n",
    "\n",
    "# Pivot the attendance data to show clock-in times for each employee on each date\n",
    "pivoted_attendance_with_names = attendance_with_names.pivot(index='date', columns='name', values='clock_in_time')\n",
    "display(pivoted_attendance_with_names)"
   ]
  },
  {
   "cell_type": "code",
   "execution_count": 42,
   "id": "b368454d",
   "metadata": {},
   "outputs": [
    {
     "data": {
      "text/html": [
       "<div>\n",
       "<style scoped>\n",
       "    .dataframe tbody tr th:only-of-type {\n",
       "        vertical-align: middle;\n",
       "    }\n",
       "\n",
       "    .dataframe tbody tr th {\n",
       "        vertical-align: top;\n",
       "    }\n",
       "\n",
       "    .dataframe thead th {\n",
       "        text-align: right;\n",
       "    }\n",
       "</style>\n",
       "<table border=\"1\" class=\"dataframe\">\n",
       "  <thead>\n",
       "    <tr style=\"text-align: right;\">\n",
       "      <th></th>\n",
       "      <th>date</th>\n",
       "      <th>name</th>\n",
       "      <th>clock_in_time</th>\n",
       "    </tr>\n",
       "  </thead>\n",
       "  <tbody>\n",
       "    <tr>\n",
       "      <th>0</th>\n",
       "      <td>2025-03-11</td>\n",
       "      <td>Alice</td>\n",
       "      <td>09:22:00</td>\n",
       "    </tr>\n",
       "    <tr>\n",
       "      <th>1</th>\n",
       "      <td>2025-03-12</td>\n",
       "      <td>Alice</td>\n",
       "      <td>09:25:00</td>\n",
       "    </tr>\n",
       "    <tr>\n",
       "      <th>2</th>\n",
       "      <td>2025-03-13</td>\n",
       "      <td>Alice</td>\n",
       "      <td>08:22:00</td>\n",
       "    </tr>\n",
       "    <tr>\n",
       "      <th>3</th>\n",
       "      <td>2025-03-14</td>\n",
       "      <td>Alice</td>\n",
       "      <td>09:47:00</td>\n",
       "    </tr>\n",
       "    <tr>\n",
       "      <th>4</th>\n",
       "      <td>2025-03-17</td>\n",
       "      <td>Alice</td>\n",
       "      <td>09:46:00</td>\n",
       "    </tr>\n",
       "  </tbody>\n",
       "</table>\n",
       "</div>"
      ],
      "text/plain": [
       "         date   name clock_in_time\n",
       "0  2025-03-11  Alice      09:22:00\n",
       "1  2025-03-12  Alice      09:25:00\n",
       "2  2025-03-13  Alice      08:22:00\n",
       "3  2025-03-14  Alice      09:47:00\n",
       "4  2025-03-17  Alice      09:46:00"
      ]
     },
     "metadata": {},
     "output_type": "display_data"
    }
   ],
   "source": [
    "# We can now melt the pivoted DataFrame to get it back into a long format\n",
    "melted_attendance = pivoted_attendance_with_names.reset_index().melt(\n",
    "    id_vars='date', \n",
    "    var_name='name', \n",
    "    value_name='clock_in_time'\n",
    ")\n",
    "display(melted_attendance.head())"
   ]
  },
  {
   "cell_type": "markdown",
   "id": "1f1e2290",
   "metadata": {},
   "source": [
    "___"
   ]
  },
  {
   "cell_type": "markdown",
   "id": "3dc7027d",
   "metadata": {},
   "source": [
    "## Complex Query Examples"
   ]
  },
  {
   "cell_type": "markdown",
   "id": "6077356c",
   "metadata": {},
   "source": [
    "___"
   ]
  },
  {
   "cell_type": "markdown",
   "id": "58214790",
   "metadata": {},
   "source": [
    "## Other Common Operations"
   ]
  },
  {
   "cell_type": "markdown",
   "id": "44f24f9c",
   "metadata": {},
   "source": [
    "### Drop Duplicates"
   ]
  },
  {
   "cell_type": "markdown",
   "id": "1abb999e",
   "metadata": {},
   "source": [
    "### Missing Data"
   ]
  },
  {
   "cell_type": "markdown",
   "id": "e9502028",
   "metadata": {},
   "source": [
    "### Regex"
   ]
  },
  {
   "cell_type": "markdown",
   "id": "a754cec7",
   "metadata": {},
   "source": [
    "### Datetimes"
   ]
  }
 ],
 "metadata": {
  "kernelspec": {
   "display_name": "chatgpt",
   "language": "python",
   "name": "python3"
  },
  "language_info": {
   "codemirror_mode": {
    "name": "ipython",
    "version": 3
   },
   "file_extension": ".py",
   "mimetype": "text/x-python",
   "name": "python",
   "nbconvert_exporter": "python",
   "pygments_lexer": "ipython3",
   "version": "3.11.3"
  }
 },
 "nbformat": 4,
 "nbformat_minor": 5
}
